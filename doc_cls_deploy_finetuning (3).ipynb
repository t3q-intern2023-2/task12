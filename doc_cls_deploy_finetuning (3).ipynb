{
 "cells": [
  {
   "cell_type": "markdown",
   "metadata": {
    "id": "8oaGGhdmYKqt"
   },
   "source": [
    "# 패키지 설치\n",
    "pip 명령어로 의존성 있는 패키지를 설치합니다.\n",
    "\n"
   ]
  },
  {
   "cell_type": "code",
   "execution_count": 10,
   "metadata": {},
   "outputs": [],
   "source": [
    "import os, glob"
   ]
  },
  {
   "cell_type": "code",
   "execution_count": 1,
   "metadata": {
    "colab": {
     "base_uri": "https://localhost:8080/"
    },
    "id": "t8TJkXkpDnSq",
    "outputId": "88c26e64-9232-47b8-f710-1912977b238d"
   },
   "outputs": [
    {
     "name": "stdout",
     "output_type": "stream",
     "text": [
      "Looking in indexes: https://pypi.tuna.tsinghua.edu.cn/simple\n",
      "Obtaining ratsnlp from git+https://github.com/judy3378/ratsnlp.git@get_trainer#egg=ratsnlp\n",
      "  Updating ./src/ratsnlp clone (to revision get_trainer)\n",
      "  Running command git fetch -q --tags\n",
      "  Running command git reset --hard -q 77f257e7a223817964e063f1497ad749800bb726\n",
      "  Preparing metadata (setup.py) ... \u001b[?25ldone\n",
      "\u001b[?25hRequirement already satisfied: pytorch-lightning==1.6.1 in /root/miniconda3/envs/task12/lib/python3.8/site-packages (from ratsnlp) (1.6.1)\n",
      "Requirement already satisfied: transformers==4.28.1 in /root/miniconda3/envs/task12/lib/python3.8/site-packages (from ratsnlp) (4.28.1)\n",
      "Requirement already satisfied: Korpora>=0.2.0 in /root/miniconda3/envs/task12/lib/python3.8/site-packages (from ratsnlp) (0.2.0)\n",
      "Requirement already satisfied: flask>=1.1.4 in /root/miniconda3/envs/task12/lib/python3.8/site-packages (from ratsnlp) (2.3.2)\n",
      "Requirement already satisfied: flask_ngrok>=0.0.25 in /root/miniconda3/envs/task12/lib/python3.8/site-packages (from ratsnlp) (0.0.25)\n",
      "Requirement already satisfied: flask_cors>=3.0.10 in /root/miniconda3/envs/task12/lib/python3.8/site-packages (from ratsnlp) (4.0.0)\n",
      "Requirement already satisfied: numpy>=1.17.2 in /root/miniconda3/envs/task12/lib/python3.8/site-packages (from pytorch-lightning==1.6.1->ratsnlp) (1.24.4)\n",
      "Requirement already satisfied: torch>=1.8.* in /root/miniconda3/envs/task12/lib/python3.8/site-packages (from pytorch-lightning==1.6.1->ratsnlp) (2.0.1)\n",
      "Requirement already satisfied: tqdm>=4.41.0 in /root/miniconda3/envs/task12/lib/python3.8/site-packages (from pytorch-lightning==1.6.1->ratsnlp) (4.65.0)\n",
      "Requirement already satisfied: PyYAML>=5.4 in /root/miniconda3/envs/task12/lib/python3.8/site-packages (from pytorch-lightning==1.6.1->ratsnlp) (6.0.1)\n",
      "Requirement already satisfied: fsspec[http]!=2021.06.0,>=2021.05.0 in /root/miniconda3/envs/task12/lib/python3.8/site-packages (from pytorch-lightning==1.6.1->ratsnlp) (2023.6.0)\n",
      "Requirement already satisfied: tensorboard>=2.2.0 in /root/miniconda3/envs/task12/lib/python3.8/site-packages (from pytorch-lightning==1.6.1->ratsnlp) (2.13.0)\n",
      "Requirement already satisfied: torchmetrics>=0.4.1 in /root/miniconda3/envs/task12/lib/python3.8/site-packages (from pytorch-lightning==1.6.1->ratsnlp) (1.0.2)\n",
      "Requirement already satisfied: pyDeprecate<0.4.0,>=0.3.1 in /root/miniconda3/envs/task12/lib/python3.8/site-packages (from pytorch-lightning==1.6.1->ratsnlp) (0.3.2)\n",
      "Requirement already satisfied: packaging>=17.0 in /root/miniconda3/envs/task12/lib/python3.8/site-packages (from pytorch-lightning==1.6.1->ratsnlp) (23.1)\n",
      "Requirement already satisfied: typing-extensions>=4.0.0 in /root/miniconda3/envs/task12/lib/python3.8/site-packages (from pytorch-lightning==1.6.1->ratsnlp) (4.7.1)\n",
      "Requirement already satisfied: filelock in /root/miniconda3/envs/task12/lib/python3.8/site-packages (from transformers==4.28.1->ratsnlp) (3.12.2)\n",
      "Requirement already satisfied: huggingface-hub<1.0,>=0.11.0 in /root/miniconda3/envs/task12/lib/python3.8/site-packages (from transformers==4.28.1->ratsnlp) (0.16.4)\n",
      "Requirement already satisfied: regex!=2019.12.17 in /root/miniconda3/envs/task12/lib/python3.8/site-packages (from transformers==4.28.1->ratsnlp) (2023.6.3)\n",
      "Requirement already satisfied: requests in /root/miniconda3/envs/task12/lib/python3.8/site-packages (from transformers==4.28.1->ratsnlp) (2.31.0)\n",
      "Requirement already satisfied: tokenizers!=0.11.3,<0.14,>=0.11.1 in /root/miniconda3/envs/task12/lib/python3.8/site-packages (from transformers==4.28.1->ratsnlp) (0.13.3)\n",
      "Requirement already satisfied: Werkzeug>=2.3.3 in /root/miniconda3/envs/task12/lib/python3.8/site-packages (from flask>=1.1.4->ratsnlp) (2.3.6)\n",
      "Requirement already satisfied: Jinja2>=3.1.2 in /root/miniconda3/envs/task12/lib/python3.8/site-packages (from flask>=1.1.4->ratsnlp) (3.1.2)\n",
      "Requirement already satisfied: itsdangerous>=2.1.2 in /root/miniconda3/envs/task12/lib/python3.8/site-packages (from flask>=1.1.4->ratsnlp) (2.1.2)\n",
      "Requirement already satisfied: click>=8.1.3 in /root/miniconda3/envs/task12/lib/python3.8/site-packages (from flask>=1.1.4->ratsnlp) (8.1.6)\n",
      "Requirement already satisfied: blinker>=1.6.2 in /root/miniconda3/envs/task12/lib/python3.8/site-packages (from flask>=1.1.4->ratsnlp) (1.6.2)\n",
      "Requirement already satisfied: importlib-metadata>=3.6.0 in /root/miniconda3/envs/task12/lib/python3.8/site-packages (from flask>=1.1.4->ratsnlp) (6.8.0)\n",
      "Requirement already satisfied: dataclasses>=0.6 in /root/miniconda3/envs/task12/lib/python3.8/site-packages (from Korpora>=0.2.0->ratsnlp) (0.6)\n",
      "Requirement already satisfied: xlrd>=1.2.0 in /root/miniconda3/envs/task12/lib/python3.8/site-packages (from Korpora>=0.2.0->ratsnlp) (2.0.1)\n",
      "Requirement already satisfied: aiohttp!=4.0.0a0,!=4.0.0a1 in /root/miniconda3/envs/task12/lib/python3.8/site-packages (from fsspec[http]!=2021.06.0,>=2021.05.0->pytorch-lightning==1.6.1->ratsnlp) (3.8.5)\n",
      "Requirement already satisfied: zipp>=0.5 in /root/miniconda3/envs/task12/lib/python3.8/site-packages (from importlib-metadata>=3.6.0->flask>=1.1.4->ratsnlp) (3.16.2)\n",
      "Requirement already satisfied: MarkupSafe>=2.0 in /root/miniconda3/envs/task12/lib/python3.8/site-packages (from Jinja2>=3.1.2->flask>=1.1.4->ratsnlp) (2.1.3)\n",
      "Requirement already satisfied: charset-normalizer<4,>=2 in /root/miniconda3/envs/task12/lib/python3.8/site-packages (from requests->transformers==4.28.1->ratsnlp) (3.2.0)\n",
      "Requirement already satisfied: idna<4,>=2.5 in /root/miniconda3/envs/task12/lib/python3.8/site-packages (from requests->transformers==4.28.1->ratsnlp) (3.4)\n",
      "Requirement already satisfied: urllib3<3,>=1.21.1 in /root/miniconda3/envs/task12/lib/python3.8/site-packages (from requests->transformers==4.28.1->ratsnlp) (1.26.16)\n",
      "Requirement already satisfied: certifi>=2017.4.17 in /root/miniconda3/envs/task12/lib/python3.8/site-packages (from requests->transformers==4.28.1->ratsnlp) (2023.7.22)\n",
      "Requirement already satisfied: absl-py>=0.4 in /root/miniconda3/envs/task12/lib/python3.8/site-packages (from tensorboard>=2.2.0->pytorch-lightning==1.6.1->ratsnlp) (1.4.0)\n",
      "Requirement already satisfied: grpcio>=1.48.2 in /root/miniconda3/envs/task12/lib/python3.8/site-packages (from tensorboard>=2.2.0->pytorch-lightning==1.6.1->ratsnlp) (1.56.2)\n",
      "Requirement already satisfied: google-auth<3,>=1.6.3 in /root/miniconda3/envs/task12/lib/python3.8/site-packages (from tensorboard>=2.2.0->pytorch-lightning==1.6.1->ratsnlp) (2.22.0)\n",
      "Requirement already satisfied: google-auth-oauthlib<1.1,>=0.5 in /root/miniconda3/envs/task12/lib/python3.8/site-packages (from tensorboard>=2.2.0->pytorch-lightning==1.6.1->ratsnlp) (1.0.0)\n",
      "Requirement already satisfied: markdown>=2.6.8 in /root/miniconda3/envs/task12/lib/python3.8/site-packages (from tensorboard>=2.2.0->pytorch-lightning==1.6.1->ratsnlp) (3.4.4)\n",
      "Requirement already satisfied: protobuf>=3.19.6 in /root/miniconda3/envs/task12/lib/python3.8/site-packages (from tensorboard>=2.2.0->pytorch-lightning==1.6.1->ratsnlp) (4.23.4)\n",
      "Requirement already satisfied: setuptools>=41.0.0 in /root/miniconda3/envs/task12/lib/python3.8/site-packages (from tensorboard>=2.2.0->pytorch-lightning==1.6.1->ratsnlp) (68.0.0)\n",
      "Requirement already satisfied: tensorboard-data-server<0.8.0,>=0.7.0 in /root/miniconda3/envs/task12/lib/python3.8/site-packages (from tensorboard>=2.2.0->pytorch-lightning==1.6.1->ratsnlp) (0.7.1)\n",
      "Requirement already satisfied: wheel>=0.26 in /root/miniconda3/envs/task12/lib/python3.8/site-packages (from tensorboard>=2.2.0->pytorch-lightning==1.6.1->ratsnlp) (0.38.4)\n",
      "Requirement already satisfied: sympy in /root/miniconda3/envs/task12/lib/python3.8/site-packages (from torch>=1.8.*->pytorch-lightning==1.6.1->ratsnlp) (1.12)\n",
      "Requirement already satisfied: networkx in /root/miniconda3/envs/task12/lib/python3.8/site-packages (from torch>=1.8.*->pytorch-lightning==1.6.1->ratsnlp) (3.1)\n",
      "Requirement already satisfied: nvidia-cuda-nvrtc-cu11==11.7.99 in /root/miniconda3/envs/task12/lib/python3.8/site-packages (from torch>=1.8.*->pytorch-lightning==1.6.1->ratsnlp) (11.7.99)\n",
      "Requirement already satisfied: nvidia-cuda-runtime-cu11==11.7.99 in /root/miniconda3/envs/task12/lib/python3.8/site-packages (from torch>=1.8.*->pytorch-lightning==1.6.1->ratsnlp) (11.7.99)\n",
      "Requirement already satisfied: nvidia-cuda-cupti-cu11==11.7.101 in /root/miniconda3/envs/task12/lib/python3.8/site-packages (from torch>=1.8.*->pytorch-lightning==1.6.1->ratsnlp) (11.7.101)\n",
      "Requirement already satisfied: nvidia-cudnn-cu11==8.5.0.96 in /root/miniconda3/envs/task12/lib/python3.8/site-packages (from torch>=1.8.*->pytorch-lightning==1.6.1->ratsnlp) (8.5.0.96)\n",
      "Requirement already satisfied: nvidia-cublas-cu11==11.10.3.66 in /root/miniconda3/envs/task12/lib/python3.8/site-packages (from torch>=1.8.*->pytorch-lightning==1.6.1->ratsnlp) (11.10.3.66)\n",
      "Requirement already satisfied: nvidia-cufft-cu11==10.9.0.58 in /root/miniconda3/envs/task12/lib/python3.8/site-packages (from torch>=1.8.*->pytorch-lightning==1.6.1->ratsnlp) (10.9.0.58)\n",
      "Requirement already satisfied: nvidia-curand-cu11==10.2.10.91 in /root/miniconda3/envs/task12/lib/python3.8/site-packages (from torch>=1.8.*->pytorch-lightning==1.6.1->ratsnlp) (10.2.10.91)\n",
      "Requirement already satisfied: nvidia-cusolver-cu11==11.4.0.1 in /root/miniconda3/envs/task12/lib/python3.8/site-packages (from torch>=1.8.*->pytorch-lightning==1.6.1->ratsnlp) (11.4.0.1)\n",
      "Requirement already satisfied: nvidia-cusparse-cu11==11.7.4.91 in /root/miniconda3/envs/task12/lib/python3.8/site-packages (from torch>=1.8.*->pytorch-lightning==1.6.1->ratsnlp) (11.7.4.91)\n",
      "Requirement already satisfied: nvidia-nccl-cu11==2.14.3 in /root/miniconda3/envs/task12/lib/python3.8/site-packages (from torch>=1.8.*->pytorch-lightning==1.6.1->ratsnlp) (2.14.3)\n",
      "Requirement already satisfied: nvidia-nvtx-cu11==11.7.91 in /root/miniconda3/envs/task12/lib/python3.8/site-packages (from torch>=1.8.*->pytorch-lightning==1.6.1->ratsnlp) (11.7.91)\n",
      "Requirement already satisfied: triton==2.0.0 in /root/miniconda3/envs/task12/lib/python3.8/site-packages (from torch>=1.8.*->pytorch-lightning==1.6.1->ratsnlp) (2.0.0)\n",
      "Requirement already satisfied: cmake in /root/miniconda3/envs/task12/lib/python3.8/site-packages (from triton==2.0.0->torch>=1.8.*->pytorch-lightning==1.6.1->ratsnlp) (3.27.0)\n",
      "Requirement already satisfied: lit in /root/miniconda3/envs/task12/lib/python3.8/site-packages (from triton==2.0.0->torch>=1.8.*->pytorch-lightning==1.6.1->ratsnlp) (16.0.6)\n",
      "Requirement already satisfied: lightning-utilities>=0.7.0 in /root/miniconda3/envs/task12/lib/python3.8/site-packages (from torchmetrics>=0.4.1->pytorch-lightning==1.6.1->ratsnlp) (0.9.0)\n",
      "Requirement already satisfied: attrs>=17.3.0 in /root/miniconda3/envs/task12/lib/python3.8/site-packages (from aiohttp!=4.0.0a0,!=4.0.0a1->fsspec[http]!=2021.06.0,>=2021.05.0->pytorch-lightning==1.6.1->ratsnlp) (23.1.0)\n",
      "Requirement already satisfied: multidict<7.0,>=4.5 in /root/miniconda3/envs/task12/lib/python3.8/site-packages (from aiohttp!=4.0.0a0,!=4.0.0a1->fsspec[http]!=2021.06.0,>=2021.05.0->pytorch-lightning==1.6.1->ratsnlp) (6.0.4)\n",
      "Requirement already satisfied: async-timeout<5.0,>=4.0.0a3 in /root/miniconda3/envs/task12/lib/python3.8/site-packages (from aiohttp!=4.0.0a0,!=4.0.0a1->fsspec[http]!=2021.06.0,>=2021.05.0->pytorch-lightning==1.6.1->ratsnlp) (4.0.2)\n",
      "Requirement already satisfied: yarl<2.0,>=1.0 in /root/miniconda3/envs/task12/lib/python3.8/site-packages (from aiohttp!=4.0.0a0,!=4.0.0a1->fsspec[http]!=2021.06.0,>=2021.05.0->pytorch-lightning==1.6.1->ratsnlp) (1.9.2)\n",
      "Requirement already satisfied: frozenlist>=1.1.1 in /root/miniconda3/envs/task12/lib/python3.8/site-packages (from aiohttp!=4.0.0a0,!=4.0.0a1->fsspec[http]!=2021.06.0,>=2021.05.0->pytorch-lightning==1.6.1->ratsnlp) (1.4.0)\n",
      "Requirement already satisfied: aiosignal>=1.1.2 in /root/miniconda3/envs/task12/lib/python3.8/site-packages (from aiohttp!=4.0.0a0,!=4.0.0a1->fsspec[http]!=2021.06.0,>=2021.05.0->pytorch-lightning==1.6.1->ratsnlp) (1.3.1)\n",
      "Requirement already satisfied: cachetools<6.0,>=2.0.0 in /root/miniconda3/envs/task12/lib/python3.8/site-packages (from google-auth<3,>=1.6.3->tensorboard>=2.2.0->pytorch-lightning==1.6.1->ratsnlp) (5.3.1)\n",
      "Requirement already satisfied: pyasn1-modules>=0.2.1 in /root/miniconda3/envs/task12/lib/python3.8/site-packages (from google-auth<3,>=1.6.3->tensorboard>=2.2.0->pytorch-lightning==1.6.1->ratsnlp) (0.3.0)\n",
      "Requirement already satisfied: rsa<5,>=3.1.4 in /root/miniconda3/envs/task12/lib/python3.8/site-packages (from google-auth<3,>=1.6.3->tensorboard>=2.2.0->pytorch-lightning==1.6.1->ratsnlp) (4.9)\n",
      "Requirement already satisfied: six>=1.9.0 in /root/miniconda3/envs/task12/lib/python3.8/site-packages (from google-auth<3,>=1.6.3->tensorboard>=2.2.0->pytorch-lightning==1.6.1->ratsnlp) (1.16.0)\n",
      "Requirement already satisfied: requests-oauthlib>=0.7.0 in /root/miniconda3/envs/task12/lib/python3.8/site-packages (from google-auth-oauthlib<1.1,>=0.5->tensorboard>=2.2.0->pytorch-lightning==1.6.1->ratsnlp) (1.3.1)\n",
      "Requirement already satisfied: mpmath>=0.19 in /root/miniconda3/envs/task12/lib/python3.8/site-packages (from sympy->torch>=1.8.*->pytorch-lightning==1.6.1->ratsnlp) (1.3.0)\n",
      "Requirement already satisfied: pyasn1<0.6.0,>=0.4.6 in /root/miniconda3/envs/task12/lib/python3.8/site-packages (from pyasn1-modules>=0.2.1->google-auth<3,>=1.6.3->tensorboard>=2.2.0->pytorch-lightning==1.6.1->ratsnlp) (0.5.0)\n",
      "Requirement already satisfied: oauthlib>=3.0.0 in /root/miniconda3/envs/task12/lib/python3.8/site-packages (from requests-oauthlib>=0.7.0->google-auth-oauthlib<1.1,>=0.5->tensorboard>=2.2.0->pytorch-lightning==1.6.1->ratsnlp) (3.2.2)\n",
      "\u001b[33mDEPRECATION: pytorch-lightning 1.6.1 has a non-standard dependency specifier torch>=1.8.*. pip 23.3 will enforce this behaviour change. A possible replacement is to upgrade to a newer version of pytorch-lightning or contact the author to suggest that they release a version with a conforming dependency specifiers. Discussion can be found at https://github.com/pypa/pip/issues/12063\u001b[0m\u001b[33m\n",
      "\u001b[0mInstalling collected packages: ratsnlp\n",
      "  Attempting uninstall: ratsnlp\n",
      "    Found existing installation: ratsnlp 1.0.53\n",
      "    Uninstalling ratsnlp-1.0.53:\n",
      "      Successfully uninstalled ratsnlp-1.0.53\n",
      "  Running setup.py develop for ratsnlp\n",
      "Successfully installed ratsnlp-1.0.53\n",
      "\u001b[33mWARNING: Running pip as the 'root' user can result in broken permissions and conflicting behaviour with the system package manager. It is recommended to use a virtual environment instead: https://pip.pypa.io/warnings/venv\u001b[0m\u001b[33m\n",
      "\u001b[0mNote: you may need to restart the kernel to use updated packages.\n"
     ]
    }
   ],
   "source": [
    "!pip install -e git+https://github.com/judy3378/ratsnlp.git@get_trainer#egg=ratsnlp"
   ]
  },
  {
   "cell_type": "markdown",
   "metadata": {
    "id": "eC5OwyKMx_l9"
   },
   "source": [
    "# 각종 설정\n",
    "모델 하이퍼파라메터(hyperparameter)와 저장 위치 등 설정 정보를 선언합니다."
   ]
  },
  {
   "cell_type": "code",
   "execution_count": 1,
   "metadata": {
    "colab": {
     "base_uri": "https://localhost:8080/"
    },
    "id": "fKybDwDqFIX5",
    "outputId": "a5cb12fb-7cbc-4dc1-8802-1e4358a156ab"
   },
   "outputs": [
    {
     "name": "stderr",
     "output_type": "stream",
     "text": [
      "/root/miniconda3/envs/intern12/lib/python3.8/site-packages/tqdm/auto.py:21: TqdmWarning: IProgress not found. Please update jupyter and ipywidgets. See https://ipywidgets.readthedocs.io/en/stable/user_install.html\n",
      "  from .autonotebook import tqdm as notebook_tqdm\n"
     ]
    },
    {
     "name": "stdout",
     "output_type": "stream",
     "text": [
      "downstream_model_checkpoint_fpath: test07/epoch=1-val_loss=0.14.ckpt\n"
     ]
    }
   ],
   "source": [
    "from ratsnlp.nlpbook.classification.arguments import ClassificationDeployArguments\n",
    "args = ClassificationDeployArguments(\n",
    "    pretrained_model_name=\"beomi/kcbert-base\",\n",
    "    downstream_model_dir=\"test07\",\n",
    "    max_seq_length=256,\n",
    ")"
   ]
  },
  {
   "cell_type": "markdown",
   "metadata": {
    "id": "J3mThtbxyNyO"
   },
   "source": [
    "# 모델 로딩\n",
    "파인튜닝을 마친 모델과 토크나이저를 읽어 들입니다."
   ]
  },
  {
   "cell_type": "code",
   "execution_count": 2,
   "metadata": {
    "colab": {
     "base_uri": "https://localhost:8080/"
    },
    "id": "aFV031RZFRgD",
    "outputId": "4c7d48dc-56b1-41af-d0a9-68a1e97a0b3a"
   },
   "outputs": [
    {
     "data": {
      "text/plain": [
       "BertForSequenceClassification(\n",
       "  (bert): BertModel(\n",
       "    (embeddings): BertEmbeddings(\n",
       "      (word_embeddings): Embedding(30000, 768, padding_idx=0)\n",
       "      (position_embeddings): Embedding(300, 768)\n",
       "      (token_type_embeddings): Embedding(2, 768)\n",
       "      (LayerNorm): LayerNorm((768,), eps=1e-12, elementwise_affine=True)\n",
       "      (dropout): Dropout(p=0.1, inplace=False)\n",
       "    )\n",
       "    (encoder): BertEncoder(\n",
       "      (layer): ModuleList(\n",
       "        (0-11): 12 x BertLayer(\n",
       "          (attention): BertAttention(\n",
       "            (self): BertSelfAttention(\n",
       "              (query): Linear(in_features=768, out_features=768, bias=True)\n",
       "              (key): Linear(in_features=768, out_features=768, bias=True)\n",
       "              (value): Linear(in_features=768, out_features=768, bias=True)\n",
       "              (dropout): Dropout(p=0.1, inplace=False)\n",
       "            )\n",
       "            (output): BertSelfOutput(\n",
       "              (dense): Linear(in_features=768, out_features=768, bias=True)\n",
       "              (LayerNorm): LayerNorm((768,), eps=1e-12, elementwise_affine=True)\n",
       "              (dropout): Dropout(p=0.1, inplace=False)\n",
       "            )\n",
       "          )\n",
       "          (intermediate): BertIntermediate(\n",
       "            (dense): Linear(in_features=768, out_features=3072, bias=True)\n",
       "            (intermediate_act_fn): GELUActivation()\n",
       "          )\n",
       "          (output): BertOutput(\n",
       "            (dense): Linear(in_features=3072, out_features=768, bias=True)\n",
       "            (LayerNorm): LayerNorm((768,), eps=1e-12, elementwise_affine=True)\n",
       "            (dropout): Dropout(p=0.1, inplace=False)\n",
       "          )\n",
       "        )\n",
       "      )\n",
       "    )\n",
       "    (pooler): BertPooler(\n",
       "      (dense): Linear(in_features=768, out_features=768, bias=True)\n",
       "      (activation): Tanh()\n",
       "    )\n",
       "  )\n",
       "  (dropout): Dropout(p=0.1, inplace=False)\n",
       "  (classifier): Linear(in_features=768, out_features=10, bias=True)\n",
       ")"
      ]
     },
     "execution_count": 2,
     "metadata": {},
     "output_type": "execute_result"
    }
   ],
   "source": [
    "import torch\n",
    "from transformers import BertConfig, BertForSequenceClassification\n",
    "fine_tuned_model_ckpt = torch.load(\n",
    "    args.downstream_model_checkpoint_fpath,\n",
    "    map_location=torch.device(\"cpu\")\n",
    ")\n",
    "pretrained_model_config = BertConfig.from_pretrained(\n",
    "    args.pretrained_model_name,\n",
    "    num_labels=fine_tuned_model_ckpt['state_dict']['model.classifier.bias'].shape.numel(),\n",
    ")\n",
    "model = BertForSequenceClassification(pretrained_model_config)\n",
    "model.load_state_dict({k.replace(\"model.\", \"\"): v for k, v in fine_tuned_model_ckpt['state_dict'].items()})\n",
    "model.eval()"
   ]
  },
  {
   "cell_type": "code",
   "execution_count": 3,
   "metadata": {
    "id": "C3amlsjpFd9i"
   },
   "outputs": [],
   "source": [
    "from transformers import BertTokenizer\n",
    "tokenizer = BertTokenizer.from_pretrained(\n",
    "    args.pretrained_model_name,\n",
    "    do_lower_case=False,\n",
    ")"
   ]
  },
  {
   "cell_type": "markdown",
   "metadata": {
    "id": "ZWVsdmThyV_p"
   },
   "source": [
    "# 인퍼런스 함수 선언\n",
    "인퍼런스 함수를 선언합니다."
   ]
  },
  {
   "cell_type": "code",
   "execution_count": 7,
   "metadata": {},
   "outputs": [],
   "source": [
    "def read_text_from_file(file_path):\n",
    "        try:\n",
    "            with open(file_path, 'r', encoding='utf-8') as file:\n",
    "                sentence = file.read()\n",
    "                return sentence\n",
    "        except FileNotFoundError:\n",
    "            print(\"File not found. Please check the file path.\")\n",
    "            return None\n",
    "        except Exception as e:\n",
    "            print(f\"An error occurred: {e}\")\n",
    "            return None"
   ]
  },
  {
   "cell_type": "code",
   "execution_count": 8,
   "metadata": {},
   "outputs": [],
   "source": [
    "def inference_fn(sentence):\n",
    "\n",
    "        inputs = tokenizer( \n",
    "            [sentence], \n",
    "            max_length=args.max_seq_length,\n",
    "            padding=\"max_length\",\n",
    "            truncation=True,\n",
    "        )\n",
    "\n",
    "        class_names = [\"뉴스\", \"역사기록물\", \"보고서\", \"사설\"]\n",
    "\n",
    "        with torch.no_grad():\n",
    "            outputs = model(**{k: torch.tensor(v) for k, v in inputs.items()})\n",
    "            prob = outputs.logits.softmax(dim=1)\n",
    "            probs = [round(p.item(), 4) for p in prob[0]]\n",
    "            pred_class_index = torch.argmax(prob)\n",
    "            pred = class_names[pred_class_index]\n",
    "\n",
    "        return {\n",
    "            #'sentence': sentence,\n",
    "            'prediction': pred,\n",
    "            'probs': {class_names[i]: probs[i] for i in range(len(class_names))},\n",
    "        }"
   ]
  },
  {
   "cell_type": "code",
   "execution_count": 13,
   "metadata": {},
   "outputs": [],
   "source": [
    "txt_files_folder = 'documents'  # Folder containing the text files\n",
    "txt_files_pattern = os.path.join(txt_files_folder, '*.txt')\n",
    "txt_file_paths = glob.glob(txt_files_pattern)"
   ]
  },
  {
   "cell_type": "code",
   "execution_count": 14,
   "metadata": {},
   "outputs": [
    {
     "ename": "IndexError",
     "evalue": "list index out of range",
     "output_type": "error",
     "traceback": [
      "\u001b[0;31m---------------------------------------------------------------------------\u001b[0m",
      "\u001b[0;31mIndexError\u001b[0m                                Traceback (most recent call last)",
      "Cell \u001b[0;32mIn[14], line 6\u001b[0m\n\u001b[1;32m      4\u001b[0m \u001b[38;5;28;01mif\u001b[39;00m sentence \u001b[38;5;129;01mis\u001b[39;00m \u001b[38;5;129;01mnot\u001b[39;00m \u001b[38;5;28;01mNone\u001b[39;00m:\n\u001b[1;32m      5\u001b[0m     file_name \u001b[38;5;241m=\u001b[39m os\u001b[38;5;241m.\u001b[39mpath\u001b[38;5;241m.\u001b[39mbasename(txt_file_path)  \u001b[38;5;66;03m# Extract the file name from the full path\u001b[39;00m\n\u001b[0;32m----> 6\u001b[0m     result \u001b[38;5;241m=\u001b[39m \u001b[43minference_fn\u001b[49m\u001b[43m(\u001b[49m\u001b[43msentence\u001b[49m\u001b[43m)\u001b[49m\n\u001b[1;32m      7\u001b[0m     \u001b[38;5;28mprint\u001b[39m(\u001b[38;5;124mf\u001b[39m\u001b[38;5;124m\"\u001b[39m\u001b[38;5;124mFile \u001b[39m\u001b[38;5;132;01m{\u001b[39;00mfile_number\u001b[38;5;132;01m}\u001b[39;00m\u001b[38;5;124m: \u001b[39m\u001b[38;5;132;01m{\u001b[39;00mfile_name\u001b[38;5;132;01m}\u001b[39;00m\u001b[38;5;124m\"\u001b[39m)  \u001b[38;5;66;03m# Print the file number and name\u001b[39;00m\n\u001b[1;32m      8\u001b[0m     \u001b[38;5;28mprint\u001b[39m(result)\n",
      "Cell \u001b[0;32mIn[8], line 17\u001b[0m, in \u001b[0;36minference_fn\u001b[0;34m(sentence)\u001b[0m\n\u001b[1;32m     15\u001b[0m     probs \u001b[38;5;241m=\u001b[39m [\u001b[38;5;28mround\u001b[39m(p\u001b[38;5;241m.\u001b[39mitem(), \u001b[38;5;241m4\u001b[39m) \u001b[38;5;28;01mfor\u001b[39;00m p \u001b[38;5;129;01min\u001b[39;00m prob[\u001b[38;5;241m0\u001b[39m]]\n\u001b[1;32m     16\u001b[0m     pred_class_index \u001b[38;5;241m=\u001b[39m torch\u001b[38;5;241m.\u001b[39margmax(prob)\n\u001b[0;32m---> 17\u001b[0m     pred \u001b[38;5;241m=\u001b[39m \u001b[43mclass_names\u001b[49m\u001b[43m[\u001b[49m\u001b[43mpred_class_index\u001b[49m\u001b[43m]\u001b[49m\n\u001b[1;32m     19\u001b[0m \u001b[38;5;28;01mreturn\u001b[39;00m {\n\u001b[1;32m     20\u001b[0m     \u001b[38;5;66;03m#'sentence': sentence,\u001b[39;00m\n\u001b[1;32m     21\u001b[0m     \u001b[38;5;124m'\u001b[39m\u001b[38;5;124mprediction\u001b[39m\u001b[38;5;124m'\u001b[39m: pred,\n\u001b[1;32m     22\u001b[0m     \u001b[38;5;124m'\u001b[39m\u001b[38;5;124mprobs\u001b[39m\u001b[38;5;124m'\u001b[39m: {class_names[i]: probs[i] \u001b[38;5;28;01mfor\u001b[39;00m i \u001b[38;5;129;01min\u001b[39;00m \u001b[38;5;28mrange\u001b[39m(\u001b[38;5;28mlen\u001b[39m(class_names))},\n\u001b[1;32m     23\u001b[0m }\n",
      "\u001b[0;31mIndexError\u001b[0m: list index out of range"
     ]
    }
   ],
   "source": [
    "for file_number, txt_file_path in enumerate(txt_file_paths, start=1):\n",
    "    sentence = read_text_from_file(txt_file_path)\n",
    "    \n",
    "    if sentence is not None:\n",
    "        file_name = os.path.basename(txt_file_path)  # Extract the file name from the full path\n",
    "        result = inference_fn(sentence)\n",
    "        print(f\"File {file_number}: {file_name}\")  # Print the file number and name\n",
    "        print(result)\n",
    "        print(\"=\" * 30)"
   ]
  },
  {
   "cell_type": "code",
   "execution_count": 5,
   "metadata": {},
   "outputs": [
    {
     "name": "stdout",
     "output_type": "stream",
     "text": [
      "Content of the file:\n",
      "행안부 장관, 연일 세계잼버리\n",
      "\n",
      "안전 및 폭염 대응 위한 현장점검\n",
      "\n",
      " - 행안부·문체부 장관, 전북도지사 및 경찰·소방·군 등 참여\n",
      "\n",
      " - 폭염대비 물품 지급, 식사의 질·양 및 의료서비스 제공 등 논의\n",
      "\n",
      " \n",
      "□ 이상민 행정안전부 장관은 오늘도 잼버리 현장을 찾아 긴급점검회의를 열고 잼버리 지원대책을 논의하였다.\n",
      "\n",
      " ○ 이번 회의에서는 현장 상황을 정확하고 즉각적으로 파악할 수 있도록 공동 조직위원장인 행안부·문체부 장관과 전라북도지사뿐만 아니라 현장을 지원 중인 경찰·소방 인력 및 지원을 제공 중인 군 인력 등이 모두 참석하였다.\n",
      "\n",
      " ○ 오늘 회의에서 이상민 장관은 어제 논의된 지원방안 추진상황을 점검하는 한편, 추가 지원 필요사항을 논의하였다. 이어서, 잼버리 조직위원회, 전북소방본부와 전북경찰청이 8월 6일(일) K-POP 콘서트 준비상황을 차례로 보고하였다.\n",
      "\n",
      "□ 이 자리에서 이상민 장관은 오늘부로 참가자 전원에게 충분한 생수와 얼음을 지급하고, 개인용 폭염대비 물품도 차질없이 지급되도록 챙겨달라고 주문했다.\n",
      "\n",
      " ○ 또한, 참가자들이 제때, 충분히, 그리고 단 한명도 누락되지 않고 이를 전달받을 수 있도록 현장에서 꼼꼼히 확인하라고 지시하였다.\n",
      "\n",
      " ○ 더불어 참가자들에게 충분하고 영양가 높은 식사가 제공될 수 있도록 오늘 즉시 조치해달라고 말했다.\n",
      "\n",
      " \n",
      "□ 이 장관은 생수의 효과적 비치 및 보급을 위한 냉동탑차와 아이스박스의 충원 등 필수물자를 신속하게 보급할 것과,\n",
      "\n",
      " ○ 추가 운영·설치되는 냉방(쿨링)버스 230대와 그늘막 이용에 어려움이 없도록 하고, 덩굴터널 조명 등을 설치하여 야간에도 더욱 안전하게 생활할 수 있도록 즉시 조치할 것을 주문하였다.\n",
      "\n",
      " ○ 또한, 온열질환자 등 치료가 필요한 부상자들에게 의료 서비스가 적시에 이루어질 수 있도록 의료인력 증원과 의료품 추가 보급에도 각별히 유의해달라고 강조했다.\n",
      "\n",
      "□ 더불어, 참가자들이 안내받지 못해 필요한 지원을 받지 못하는 일이 없도록 적극적으로 안내할 것을 주문하였으며,\n",
      "\n",
      " ○ 휴대폰 충전과 같은 참가자 편의 문제도 챙길 것을 당부하였다.\n",
      "\n",
      "□ 이상민 장관은 전 세계의 시선이 새만금에 집중되고 있음을 언급하면서,\n",
      "\n",
      " ○ “우리 정부를 믿고 대한민국을 찾아온 참가자들의 안전과 건강을 지키기 위해 관계부처와 긴밀히 협력하여 총력을 다해 지원할 것”이라고 밝혔다.\n",
      "\n",
      "□ 한편, 이상민 장관은 오늘 세계잼버리 현장을 방문하여 화장실 청결상태와 샤워장 운영상태 등을 확인하고, 식음료가 원활하게 지급되고 있는지, 의료시설이 폭염에 취약하지 않은지 등 현장 상황을 꼼꼼히 점검할 예정이다.\n"
     ]
    }
   ],
   "source": [
    "def read_text_from_file(file_path):\n",
    "    try:\n",
    "        with open(file_path, 'r', encoding='utf-8') as file:\n",
    "            sentence = file.read()\n",
    "            return sentence\n",
    "    except FileNotFoundError:\n",
    "        print(\"File not found. Please check the file path.\")\n",
    "        return None\n",
    "    except Exception as e:\n",
    "        print(f\"An error occurred: {e}\")\n",
    "        return None\n",
    "\n",
    "txt_file_path = 'Documents/briefing.txt'  # 파일 경로를 적절하게 수정하세요.\n",
    "sentence = read_text_from_file(txt_file_path)\n",
    "\n",
    "if sentence is not None:\n",
    "    print(\"Content of the file:\")\n",
    "    print(sentence)\n"
   ]
  },
  {
   "cell_type": "code",
   "execution_count": 6,
   "metadata": {
    "colab": {
     "base_uri": "https://localhost:8080/"
    },
    "id": "fnzR9NMtFiAz",
    "outputId": "c7f4956a-3946-4c06-fd17-47b6bad88b56"
   },
   "outputs": [
    {
     "name": "stdout",
     "output_type": "stream",
     "text": [
      "{'prediction': '연설문', 'probs': {'뉴스': 0.0205, '보도자료': 0.3573, '역사기록물': 0.0079, '보고서': 0.0063, '회의록': 0.0016, '사설': 0.0019, '간행물': 0.0048, '연설문': 0.5981, '문학': 0.001, '나래이션': 0.0006}}\n"
     ]
    }
   ],
   "source": [
    "def inference_fn(sentence):\n",
    "\n",
    "    inputs = tokenizer( \n",
    "        [sentence], \n",
    "        max_length=args.max_seq_length,\n",
    "        padding=\"max_length\",\n",
    "        truncation=True,\n",
    "    )\n",
    "\n",
    "#    print(inputs.items())\n",
    "#    print(inputs.keys())\n",
    "#   print(inputs.values())\n",
    "\n",
    "#    inputs = tokenizer(\n",
    "#            [sentence],\n",
    "#        max_length=args.max_seq_length,\n",
    "#        padding=\"max_length\",\n",
    "#        truncation=True,\n",
    "#    )\n",
    "\n",
    "    class_names = [\"뉴스\", \"보도자료\", \"역사기록물\", \"보고서\", \"회의록\", \"사설\", \"간행물\", \"연설문\", \"문학\", \"나래이션\"]\n",
    "\n",
    "    with torch.no_grad():\n",
    "        outputs = model(**{k: torch.tensor(v) for k, v in inputs.items()})\n",
    "        prob = outputs.logits.softmax(dim=1)\n",
    "        probs = [round(p.item(), 4) for p in prob[0]]\n",
    "        pred_class_index = torch.argmax(prob)\n",
    "        pred = class_names[pred_class_index]\n",
    "\n",
    "    return {\n",
    "        #'sentence': sentence,\n",
    "        'prediction': pred,\n",
    "        'probs': {class_names[i]: probs[i] for i in range(len(class_names))},\n",
    "    }\n",
    "\n",
    "result = inference_fn(sentence)\n",
    "print(result)"
   ]
  },
  {
   "cell_type": "code",
   "execution_count": null,
   "metadata": {},
   "outputs": [],
   "source": []
  },
  {
   "cell_type": "code",
   "execution_count": null,
   "metadata": {},
   "outputs": [],
   "source": []
  }
 ],
 "metadata": {
  "colab": {
   "provenance": []
  },
  "kernelspec": {
   "display_name": "intern12",
   "language": "python",
   "name": "intern12"
  },
  "language_info": {
   "codemirror_mode": {
    "name": "ipython",
    "version": 3
   },
   "file_extension": ".py",
   "mimetype": "text/x-python",
   "name": "python",
   "nbconvert_exporter": "python",
   "pygments_lexer": "ipython3",
   "version": "3.8.17"
  }
 },
 "nbformat": 4,
 "nbformat_minor": 4
}
