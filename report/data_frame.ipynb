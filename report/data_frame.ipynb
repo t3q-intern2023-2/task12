{
 "cells": [
  {
   "cell_type": "code",
   "execution_count": 3,
   "metadata": {},
   "outputs": [],
   "source": [
    "# 필요한 패키지 로드\n",
    "import glob\n",
    "import pandas as pd\n",
    "import numpy as np\n",
    "import json"
   ]
  },
  {
   "cell_type": "code",
   "execution_count": 7,
   "metadata": {},
   "outputs": [
    {
     "name": "stdout",
     "output_type": "stream",
     "text": [
      "Wall time: 7.99 ms\n",
      "(16000, 4)\n"
     ]
    }
   ],
   "source": [
    "#폴더 이름\n",
    "folders = ['01.news_r',\n",
    "    '03.his_cul',\n",
    "    '04.paper',\n",
    "    '06.edit'\n",
    "    ]\n",
    "    \n",
    "    \n",
    " # 다양한 카테고리에 해당하는 폴더 이름들이 포함.\n",
    "\n",
    "file_limit = 4000 # 각 폴더에서 최대로 수집할 파일의 개수를 제한.\n",
    "file_paths = [] # 최종적으로 파일들의 경로를 저장할 리스트.\n",
    "\n",
    "#for folder in folders:\n",
    "#    folder_path = f'C:/Users/ADMIN/Desktop/train/{folder}/2~3sent/*.json'\n",
    "#    files = glob.glob(folder_path)[:file_limit] # 해당 패턴과 일치하는 파일들을 검색하고 각 폴더에서 최대 100개의 파일만 수집. \n",
    "#    file_paths.extend(files)\n",
    "\n",
    "for folder in folders:\n",
    "    folder_path = f'C:/Users/ADMIN/Desktop/train/{folder}/20per/*.json'\n",
    "    files = glob.glob(folder_path)[:file_limit] # 해당 패턴과 일치하는 파일들을 검색하고 각 폴더에서 최대 100개의 파일만 수집. \n",
    "    file_paths.extend(files)    \n",
    "\n",
    "%time data_list = [] # 빈 리스트를 생성하여 딕셔너리들을 저장할 준비를 합니다.\n",
    "\n",
    "# 각 JSON 파일에 대해 반복합니다.\n",
    "for file_path in file_paths:\n",
    "    # JSON 파일을 로드합니다.\n",
    "    with open(file_path, \"r\", encoding=\"utf-8\") as file:\n",
    "        json_data = json.load(file)\n",
    "    \n",
    "    # 필요한 정보를 추출합니다.\n",
    "    doc_id = json_data[\"Meta(Acqusition)\"][\"doc_id\"]\n",
    "    doc_type = json_data[\"Meta(Acqusition)\"][\"doc_type\"]\n",
    "    doc_name = json_data[\"Meta(Acqusition)\"][\"doc_name\"]\n",
    "    passage = json_data[\"Meta(Refine)\"][\"passage\"]\n",
    "\n",
    "    # 새로운 딕셔너리를 리스트에 추가합니다.\n",
    "    data_list.append({\"doc_id\": doc_id, \"doc_type\": doc_type, \"doc_name\": doc_name, \"passage\": passage})\n",
    "    \n",
    "# 리스트의 딕셔너리들을 사용하여 DataFrame을 생성합니다.\n",
    "df = pd.DataFrame(data_list)\n",
    "\n",
    "# 결과 DataFrame의 첫 세줄을 출력합니다.\n",
    "print(df.shape)\n",
    "df.head(3)\n",
    "\n",
    "output_file_path = 'C:/Users/ADMIN/Desktop/trainer.json'\n",
    "with open(output_file_path, 'w', encoding='utf-8') as output_file:\n",
    "    json.dump(data_list, output_file, ensure_ascii=False, indent=4)\n",
    "\n"
   ]
  }
 ],
 "metadata": {
  "kernelspec": {
   "display_name": "base",
   "language": "python",
   "name": "python3"
  },
  "language_info": {
   "codemirror_mode": {
    "name": "ipython",
    "version": 3
   },
   "file_extension": ".py",
   "mimetype": "text/x-python",
   "name": "python",
   "nbconvert_exporter": "python",
   "pygments_lexer": "ipython3",
   "version": "3.10.0"
  },
  "orig_nbformat": 4
 },
 "nbformat": 4,
 "nbformat_minor": 2
}
